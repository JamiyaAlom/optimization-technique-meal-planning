{
 "cells": [
  {
   "cell_type": "code",
   "execution_count": null,
   "id": "ebbdebd4-b560-4730-8b0b-c03b26a417f4",
   "metadata": {},
   "outputs": [],
   "source": [
    "import pandas as pd\n",
    "import matplotlib.pyplot as plt\n",
    "import pulp\n",
    "import random\n",
    "import time"
   ]
  },
  {
   "cell_type": "markdown",
   "id": "d889494b-0a83-4c63-af09-c2493d6b1580",
   "metadata": {},
   "source": [
    "## User Input\n"
   ]
  },
  {
   "cell_type": "code",
   "execution_count": null,
   "id": "62534f7b-a6f8-45d7-97e4-fa51bcf87390",
   "metadata": {},
   "outputs": [],
   "source": [
    "# print(\"Do you want personalized planning by providing some information like Height weight, etc.?\")\n",
    "print(\"If YES, Press X = 1, Otherwise X = 0\")\n",
    "\n",
    "x = int(input(\"X = \"))\n"
   ]
  },
  {
   "cell_type": "markdown",
   "id": "a9f266be-9cd0-4eb3-9460-0de48bd11af6",
   "metadata": {},
   "source": [
    "## Calculating BMR and Nutrients Constraints"
   ]
  },
  {
   "cell_type": "code",
   "execution_count": null,
   "id": "e6667e39-7510-4ecf-af4c-28b9612a0837",
   "metadata": {},
   "outputs": [],
   "source": [
    "#BMR calculation \n",
    "def calculate_bmr(gender, weight, height, age):\n",
    "    if gender.lower() == 'male':\n",
    "        return (10 * weight) + (6.25 * height) - (5 * age) + 5\n",
    "    else:\n",
    "        return (10 * weight) + (6.25 * height) - (5 * age) - 161\n",
    "\n",
    "if(x==1):\n",
    "    \n",
    "    # user = {\n",
    "    # 'name': 'Jamiya Alom',\n",
    "    # 'age': 20,\n",
    "    # 'gender': 'female',\n",
    "    # 'height': 190,  # in cm\n",
    "    # 'weight': 75,   # in kg\n",
    "    # }\n",
    "\n",
    "    user = {}\n",
    "\n",
    "    # user input\n",
    "    user['name'] = input(\"Enter your name: \")\n",
    "    user['age'] = int(input(\"Enter your age: \"))\n",
    "    user['gender'] = input(\"Enter your gender (male/female): \").lower()\n",
    "    user['height'] = float(input(\"Enter your height in cm: \"))\n",
    "    user['weight'] = float(input(\"Enter your weight in kg: \"))\n",
    "\n",
    "    bmr1= calculate_bmr(user['gender'], user['weight'], user['height'], user['age'])\n",
    "    print(f\"Calculated BMR: {bmr1:.2f} kcal\")\n",
    "\n",
    "    min_cal= bmr1 * 1.2\n",
    "    max_cal = bmr1 * 1.9\n",
    "\n",
    "    # Minimum Calory needed\n",
    "    bmr= bmr1*1.2\n",
    "\n",
    "    # Protein Calculation\n",
    "    Pconst = (bmr*0.20)/4\n",
    "\n",
    "    # Fat Calculation\n",
    "    Fconst = (bmr * 0.25)/9\n",
    "\n",
    "    #Sugar Calculation\n",
    "    Sconst = (bmr * 0.12)/4\n",
    "\n",
    "    Sodium_const = 2500\n",
    "\n",
    "    print(f\"Minimum Calory: {bmr:.2f}, min_cal: {min_cal}, max_cal: {max_cal}, min Protein: {Pconst}, max_fat: {Fconst}, max_sugar: {Sconst}, max_sodium:{Sodium_const}\")\n",
    "    \n",
    "else:\n",
    "    min_cal = 2200\n",
    "    max_cal = 3500\n",
    "    Pconst = 110\n",
    "    Fconst = 61\n",
    "    Sconst = 66\n",
    "    Sodium_const = 2500\n",
    "    print(f\"min_cal: {min_cal}, max_cal: {max_cal}, min Protein: {Pconst}, max_fat: {Fconst}, max_sugar: {Sconst}, max_sodium:{Sodium_const}\")"
   ]
  },
  {
   "cell_type": "markdown",
   "id": "a73a9115-5239-43d2-86f6-62e1c2544b91",
   "metadata": {},
   "source": [
    "### Dataset Loading\n"
   ]
  },
  {
   "cell_type": "code",
   "execution_count": null,
   "id": "c93fee6f-1494-4a76-aa18-1c296b2749cf",
   "metadata": {},
   "outputs": [],
   "source": [
    "#Data Loading\n",
    "data = pd.read_csv(\"../dataset/7_11_food_choices.csv\")\n",
    "#data"
   ]
  },
  {
   "cell_type": "markdown",
   "id": "ba0a3863-05fc-4df0-9454-14dbe08f4f7b",
   "metadata": {},
   "source": [
    "### Data Extraction"
   ]
  },
  {
   "cell_type": "code",
   "execution_count": null,
   "id": "77742791-0091-49c0-8a4e-52c966124841",
   "metadata": {},
   "outputs": [],
   "source": [
    "#Extracting the data and convert it to the list\n",
    "prices     = data['Price(baht)'].tolist()\n",
    "calories  = data['Calories(kCal)'].tolist()\n",
    "proteins  = data['Protein(g)'].tolist()\n",
    "fats      = data['Fat(g)'].tolist()\n",
    "sugars    = data['Sugar(g)'].tolist()\n",
    "sodium    = data['Sodium(mg)'].tolist()\n",
    "items     = data['ITEM'].tolist()\n",
    "\n",
    "n = len(data)  # Total food items\n",
    "\n",
    "min_item = 3\n",
    "max_item = 9"
   ]
  },
  {
   "cell_type": "markdown",
   "id": "e15b3caf-5a70-4109-ae10-4f7c9ba70b0a",
   "metadata": {},
   "source": [
    "# Genetic Algorithm"
   ]
  },
  {
   "cell_type": "code",
   "execution_count": null,
   "id": "85c5da2a-8c48-4996-9a2e-e5e7ce0d7820",
   "metadata": {},
   "outputs": [],
   "source": [
    "POPULATION_SIZE = 100\n",
    "GENERATIONS = 300\n",
    "CROSSOVER_RATE = 0.8\n",
    "MUTATION_RATE = 0.1\n",
    "ELITE_COUNT = 5"
   ]
  },
  {
   "cell_type": "markdown",
   "id": "ead63ba4-a4b8-4326-9191-c7c6ed9e1877",
   "metadata": {},
   "source": [
    "## Chromosome Creation"
   ]
  },
  {
   "cell_type": "code",
   "execution_count": null,
   "id": "18df1a43-cb0e-4f37-ba0a-4e69b15e8120",
   "metadata": {},
   "outputs": [],
   "source": [
    "def create_chromosome():\n",
    "    for _ in range(1000): \n",
    "        chromosome = []\n",
    "        for _ in range(n):\n",
    "            # chromosome = [random.randint(0, 1) for _ in range(n)]\n",
    "            # if min_item <= sum(chromosome):\n",
    "            #     return chromosome\n",
    "            if random.random() < 0.1:\n",
    "                chromosome.append(1)\n",
    "            else:\n",
    "                chromosome.append(0)\n",
    "        if min_item <= sum(chromosome) <= max_item:\n",
    "            #print(f\"\\nChromosome selection...{chromosome}\")\n",
    "            return chromosome\n",
    "\n",
    "    # If failed to create a valid one, force-select min items items\n",
    "    chromosome = [0] * n\n",
    "    selected_indices = random.sample(range(n), min_item)\n",
    "    for idx in selected_indices:\n",
    "        chromosome[idx] = 1\n",
    "        #print(\"\\nForce Chromosome selection...\")\n",
    "    return chromosome"
   ]
  },
  {
   "cell_type": "markdown",
   "id": "f1e7329b-1959-420a-9177-11253175e388",
   "metadata": {},
   "source": [
    "## Fitness Function"
   ]
  },
  {
   "cell_type": "code",
   "execution_count": null,
   "id": "a3270715-b692-45c6-bd6d-32ebe2573826",
   "metadata": {},
   "outputs": [],
   "source": [
    "def fitness(chromosome):\n",
    "    total_price = 0\n",
    "    total_calories = 0\n",
    "    total_protein = 0\n",
    "    total_fat = 0\n",
    "    total_sugar = 0\n",
    "    total_sodium = 0\n",
    "    item_count = 0\n",
    "\n",
    "    for i in range(n):\n",
    "        if chromosome[i]:\n",
    "            total_price += prices[i]\n",
    "            total_calories += calories[i]\n",
    "            total_protein += proteins[i]\n",
    "            total_fat += fats[i]\n",
    "            total_sugar += sugars[i]\n",
    "            total_sodium += sodium[i]\n",
    "            item_count += 1\n",
    "\n",
    "    penalty = 0\n",
    "    if item_count < min_item or item_count > max_item:\n",
    "        penalty += 100\n",
    "    if total_calories < min_cal or total_calories > max_cal:\n",
    "        penalty += 100\n",
    "    if total_protein < Pconst:\n",
    "        penalty += 100\n",
    "    if total_fat > Fconst:\n",
    "        penalty += 100\n",
    "    if total_sugar > Sconst:\n",
    "        penalty += 100\n",
    "    if total_sodium > Sodium_const:\n",
    "        penalty += 100\n",
    "\n",
    "    return total_price + penalty"
   ]
  },
  {
   "cell_type": "markdown",
   "id": "63d74fc8-207d-410b-a12c-0796e8a601f5",
   "metadata": {},
   "source": [
    "## Selection"
   ]
  },
  {
   "cell_type": "code",
   "execution_count": null,
   "id": "1f315ef1-f47c-45a5-af2e-e18ef10365df",
   "metadata": {},
   "outputs": [],
   "source": [
    "def select(population):\n",
    "    candidates = random.sample(population, 3)\n",
    "    return min(candidates, key=fitness)"
   ]
  },
  {
   "cell_type": "markdown",
   "id": "dbad6c8e-0718-48e2-82f3-c6d58104f111",
   "metadata": {},
   "source": [
    "## Crossover"
   ]
  },
  {
   "cell_type": "code",
   "execution_count": null,
   "id": "0408c0f3-c634-4c5e-8d40-5b9fa1736997",
   "metadata": {},
   "outputs": [],
   "source": [
    "def crossover(parent1, parent2):\n",
    "    \"\"\"\n",
    "    Single-point crossover\n",
    "    \"\"\"\n",
    "    if random.random() < CROSSOVER_RATE:\n",
    "        point = random.randint(1, n - 2)\n",
    "        child1 = fix_chromosome(parent1[:point] + parent2[point:])\n",
    "        child2 = fix_chromosome(parent2[:point] + parent1[point:])\n",
    "        return [child1, child2]\n",
    "    return [parent1[:], parent2[:]]"
   ]
  },
  {
   "cell_type": "markdown",
   "id": "a0389c8b-ca07-46e8-b8a8-6c447b731b42",
   "metadata": {},
   "source": [
    "## Mutation"
   ]
  },
  {
   "cell_type": "code",
   "execution_count": null,
   "id": "19af5e27-e6de-4497-8755-3e30b05430c0",
   "metadata": {},
   "outputs": [],
   "source": [
    "def mutate(chromosome):\n",
    "    \"\"\"\n",
    "    Randomly flips genes based on mutation rate, then fixes item count if needed.\n",
    "    \"\"\"\n",
    "    for i in range(n):\n",
    "        if random.random() < MUTATION_RATE:\n",
    "            chromosome[i] = 1 - chromosome[i]\n",
    "    return fix_chromosome(chromosome)\n",
    "\n",
    "def fix_chromosome(chromosome):\n",
    "    \"\"\"\n",
    "    Ensures that the number of selected items is within valid range.\n",
    "    \"\"\"\n",
    "    while sum(chromosome) < min_item:\n",
    "        index = random.randint(0, n - 1)\n",
    "        chromosome[index] = 1\n",
    "    while sum(chromosome) > max_item:\n",
    "        ones = [i for i in range(n) if chromosome[i] == 1]\n",
    "        chromosome[random.choice(ones)] = 0\n",
    "    return chromosome"
   ]
  },
  {
   "cell_type": "markdown",
   "id": "f6327989-7d5d-48c5-b20c-ccb8c5fe2600",
   "metadata": {},
   "source": [
    "## Main Function"
   ]
  },
  {
   "cell_type": "code",
   "execution_count": null,
   "id": "a6fdb15d-2995-4384-8758-745f1d80a3a3",
   "metadata": {},
   "outputs": [],
   "source": [
    "NUM_RUNS = 13  # Number of GA runs\n",
    "all_best_costs = []\n",
    "all_avg_costs = []\n",
    "all_execution_times = []\n",
    "\n",
    "for run in range(NUM_RUNS):\n",
    "\n",
    "    print(f\"\\n=== GA Run {run + 1} ===\")\n",
    "\n",
    "    start_time = time.time()\n",
    "\n",
    "    print(\"\\nRunning Genetic Algorithm...\")\n",
    "\n",
    "    # population = []\n",
    "    # for _ in range(POPULATION_SIZE):\n",
    "    #     population.append(create_chromosome())\n",
    "    population = [create_chromosome() for _ in range(POPULATION_SIZE)]\n",
    "\n",
    "    best_costs = []\n",
    "    average_costs = []\n",
    "    selects_cost = []\n",
    "\n",
    "    for generation in range(GENERATIONS):\n",
    "       \n",
    "        new_population = sorted(population, key=fitness)[:ELITE_COUNT]  #Elitism\n",
    "\n",
    "        best_fitness = fitness(new_population[0])\n",
    "        best_costs.append(best_fitness)\n",
    "\n",
    "        average_costs.append(sum(fitness(c) for c in population) / len(population))\n",
    "    \n",
    "\n",
    "        # Generate the rest of the population\n",
    "        while len(new_population) < POPULATION_SIZE:\n",
    "            parent1 = select(population)\n",
    "            parent2 = select(population)\n",
    "            offspring = crossover(parent1, parent2)\n",
    "            for child in offspring:\n",
    "                new_population.append(mutate(child))\n",
    "    \n",
    "        population = new_population\n",
    "\n",
    "\n",
    "    print(\"\\nBest Daily Meal Plan:\")\n",
    "    best_chromosome = min(population, key=fitness)\n",
    "\n",
    "    total_cost = 0\n",
    "    total_cal = 0\n",
    "    total_protein = 0\n",
    "    total_fat = 0\n",
    "    total_sugar = 0\n",
    "    total_sodium = 0\n",
    "\n",
    "    for i in range(n):\n",
    "        if best_chromosome[i]:\n",
    "            print(f\" - {items[i]} | {calories[i]} Kcal | Price: {prices[i]} Baht| Protein: {proteins[i]} g | Fat: {fats[i]} g | Sugar: {sugars[i]} g\")\n",
    "            total_cost += prices[i]\n",
    "            total_cal += calories[i]\n",
    "            total_protein += proteins[i]\n",
    "            total_fat += fats[i]\n",
    "            total_sugar += sugars[i]\n",
    "            total_sodium += sodium[i]\n",
    "\n",
    "\n",
    "    print(\"\\nSummary of Best Meal Plan:\")\n",
    "\n",
    "   \n",
    "    print(f\"Total Cost: {total_cost:.2f} Baht\")\n",
    "    print(total_cal)\n",
    "\n",
    "    if(total_cal >= min_cal and total_cal <= max_cal):\n",
    "        print(f\"\\nTotal Cal: {total_cal:.2f} Kcal. ---- Calory Requirements: Satisfied :)\")\n",
    "    else: print(f\"\\nTotal Cal: {total_cal:.2f} Kcal. ---- Calory Requirements: not Satisfied :(\")\n",
    "    \n",
    "    #Total Protein\n",
    "    if(total_protein >= Pconst):\n",
    "        print(f\"\\nTotal Protein: {total_protein:.2f} g. ---- Protein Requirements: Satisfied :)\")\n",
    "    else: print(f\"\\nTotal Protein: {total_protein:.2f} g. ---- Protein Requirements: Not Satisfied :(\")\n",
    "\n",
    "    #Total Fat\n",
    "    if(total_fat <= Fconst):\n",
    "        print(f\"\\nTotal fat: {total_fat:.2f} g. --------- Fat Requirements: Satisfied :)\")\n",
    "    else: print(f\"\\nTotal fat: {total_fat:.2f} g. --------- Fat Requirements: Not Satisfied :(\")\n",
    "\n",
    "    #Total Sugar\n",
    "    if(total_sugar <= Sconst):\n",
    "        print(f\"\\nTotal sugar: {total_sugar:.2f} g. ------- Sugar Requirements: Satisfied :)\")\n",
    "    else: print(f\"\\nTotal sugar: {total_sugar:.2f} g. ------- Sugar Requirements: Not Satisfied :(\")    \n",
    "\n",
    "    #Total Sodium\n",
    "    if(total_sodium <= Sodium_const):\n",
    "        print(f\"\\nTotal sodium: {total_sodium:.2f} mg. --- Sodium Requirements: Satisfied :)\")\n",
    "    else: print(f\"\\nTotal sodium: {total_sodium:.2f} mg. --- Sodium Requirements: Not Satisfied :(\") \n",
    "\n",
    "    all_best_costs.append(min(best_costs))\n",
    "    all_avg_costs.append(average_costs[-1])\n",
    "    all_execution_times.append(time.time() - start_time)\n",
    "    print(f\"Best Cost: {min(best_costs):.2f}, Avg Cost: {average_costs[-1]:.2f}, Time: {all_execution_times[-1]:.2f}s\")\n",
    "\n",
    "    print(\"\\n\")"
   ]
  },
  {
   "cell_type": "markdown",
   "id": "f9455cba-106a-4cff-8161-df1c04ae3a1a",
   "metadata": {},
   "source": [
    "### GA all Run Summary"
   ]
  },
  {
   "cell_type": "code",
   "execution_count": null,
   "id": "4a5538f5-2377-4d5b-98c9-996f35cc6f97",
   "metadata": {},
   "outputs": [],
   "source": [
    "print(\"\\nGA all Run Summary-\\n\")\n",
    "print(f\"Min of All Best Cost over {NUM_RUNS} runs: {min(all_best_costs):.2f}\")\n",
    "print(f\"Max of All Best Cost over {NUM_RUNS} runs: {max(all_best_costs):.2f}\")\n",
    "print(f\"Average Best Cost over {NUM_RUNS} runs: {sum(all_best_costs)/NUM_RUNS:.2f}\")\n",
    "print(f\"Average after {NUM_RUNS} runs: {sum(all_avg_costs)/NUM_RUNS:.2f}\")\n",
    "print(f\"Average Execution Time: {sum(all_execution_times)/NUM_RUNS:.2f} seconds\")"
   ]
  },
  {
   "cell_type": "markdown",
   "id": "926c2bd2-c9d6-4723-89b6-4e2a8617f512",
   "metadata": {},
   "source": [
    "## Plotting"
   ]
  },
  {
   "cell_type": "code",
   "execution_count": null,
   "id": "ae669db7-3d49-44b6-8c63-229726b87cb0",
   "metadata": {},
   "outputs": [],
   "source": [
    "#Plotting \n",
    "plt.plot(range(1, NUM_RUNS+1), all_best_costs, marker='o', label='Best Cost')\n",
    "plt.plot(range(1, NUM_RUNS+1), all_avg_costs, marker='s', label='Final Avg Cost')\n",
    "plt.title(\"GA Run Comparison\")\n",
    "plt.xlabel(\"Run Number\")\n",
    "plt.ylabel(\"Cost\")\n",
    "plt.legend()\n",
    "plt.grid(True)\n",
    "plt.tight_layout()\n",
    "plt.show()"
   ]
  },
  {
   "cell_type": "code",
   "execution_count": null,
   "id": "8f00a7a6-c352-497a-82a1-7c610129caf3",
   "metadata": {},
   "outputs": [],
   "source": [
    "#Plotting Over Generations\n",
    "plt.plot(best_costs, label='Best Cost per Generation', color='green')\n",
    "plt.plot(average_costs, label='Average Cost per Generation', color='red')\n",
    "plt.xlabel('Generation')\n",
    "plt.ylabel('Cost (Fitness Value)')\n",
    "plt.title('GA Optimization Progress')\n",
    "plt.legend()\n",
    "plt.grid(True)\n",
    "plt.tight_layout()\n",
    "plt.show()"
   ]
  },
  {
   "cell_type": "code",
   "execution_count": null,
   "id": "5a4c5fa7-cc2d-494a-a7da-582bed9ad058",
   "metadata": {},
   "outputs": [],
   "source": []
  }
 ],
 "metadata": {
  "kernelspec": {
   "display_name": "Python 3 (ipykernel)",
   "language": "python",
   "name": "python3"
  },
  "language_info": {
   "codemirror_mode": {
    "name": "ipython",
    "version": 3
   },
   "file_extension": ".py",
   "mimetype": "text/x-python",
   "name": "python",
   "nbconvert_exporter": "python",
   "pygments_lexer": "ipython3",
   "version": "3.13.3"
  }
 },
 "nbformat": 4,
 "nbformat_minor": 5
}
