{
 "cells": [
  {
   "cell_type": "code",
   "execution_count": null,
   "id": "1111e0a9-7ab7-40d7-9a52-19e1bbd85c18",
   "metadata": {},
   "outputs": [],
   "source": [
    "# Import libraries\n",
    "import pandas as pd\n",
    "import numpy as np\n",
    "import matplotlib.pyplot as plt\n",
    "from pymoo.core.problem import Problem\n",
    "from pymoo.algorithms.moo.nsga2 import NSGA2\n",
    "from pymoo.operators.sampling.rnd import BinaryRandomSampling\n",
    "from pymoo.operators.crossover.pntx import TwoPointCrossover\n",
    "from pymoo.operators.mutation.bitflip import BitflipMutation\n",
    "from pymoo.termination import get_termination\n",
    "from pymoo.optimize import minimize\n",
    "from tabulate import tabulate"
   ]
  },
  {
   "cell_type": "markdown",
   "id": "1419ea23-e757-49fc-b180-1338654f8981",
   "metadata": {},
   "source": [
    "## User Input\n"
   ]
  },
  {
   "cell_type": "code",
   "execution_count": null,
   "id": "5dca7242-3578-4207-a7a6-028947a96e48",
   "metadata": {},
   "outputs": [],
   "source": [
    "print(\"Do you want personalized planning by providing some information like Height, Weight, etc.?\")\n",
    "print(\"If YES, Press X = 1, Otherwise X = 0\")\n",
    "x = int(input(\"X = \"))"
   ]
  },
  {
   "cell_type": "markdown",
   "id": "0eabaa57-e48e-4ad9-ae0b-66b3a675f5be",
   "metadata": {},
   "source": [
    "## Calculating BMR and Nutrients Constraints"
   ]
  },
  {
   "cell_type": "code",
   "execution_count": null,
   "id": "c4e225b8-b957-4389-9982-85253e8b9ffc",
   "metadata": {},
   "outputs": [],
   "source": [
    "# BMR\n",
    "def calculate_bmr(gender, weight, height, age):\n",
    "    if gender.lower() == 'male':\n",
    "        return (10 * weight) + (6.25 * height) - (5 * age) + 5\n",
    "    else:\n",
    "        return (10 * weight) + (6.25 * height) - (5 * age) - 161\n",
    "\n",
    "if x == 1:\n",
    "    user = {}\n",
    "    user['name'] = input(\"Enter your name: \")\n",
    "    user['age'] = int(input(\"Enter your age: \"))\n",
    "    user['gender'] = input(\"Enter your gender (male/female): \").lower()\n",
    "    user['height'] = float(input(\"Enter your height in cm: \"))\n",
    "    user['weight'] = float(input(\"Enter your weight in kg: \"))\n",
    "\n",
    "    bmr1 = calculate_bmr(user['gender'], user['weight'], user['height'], user['age'])\n",
    "    print(f\"Calculated BMR: {bmr1:.2f} kcal\")\n",
    "\n",
    "    min_cal = bmr1 * 1.2\n",
    "    max_cal = bmr1 * 1.9\n",
    "    bmr = bmr1 * 1.2\n",
    "    Pconst = (bmr * 0.20) / 4\n",
    "    Fconst = (bmr * 0.25) / 9\n",
    "    Sconst = (bmr * 0.12) / 4\n",
    "    Sodium_const = 2500\n",
    "else:\n",
    "    min_cal = 2200\n",
    "    max_cal = 3500\n",
    "    Pconst = 110\n",
    "    Fconst = 61\n",
    "    Sconst = 66\n",
    "    Sodium_const = 2500\n",
    "\n",
    "print(f\"\\n[Constraints]\")\n",
    "print(f\"min_cal: {min_cal:.0f}, max_cal: {max_cal:.0f}, min Protein: {Pconst:.0f}, max_fat: {Fconst:.0f}, max_sugar: {Sconst:.0f}, max_sodium: {Sodium_const}\")\n"
   ]
  },
  {
   "cell_type": "markdown",
   "id": "3ca6bedb-cb4e-441e-9ba9-bfec38ac3e9f",
   "metadata": {},
   "source": [
    "## Load Dataset\n"
   ]
  },
  {
   "cell_type": "code",
   "execution_count": null,
   "id": "4a70471f-31f3-4633-b74f-b569189f006b",
   "metadata": {},
   "outputs": [],
   "source": [
    "# 3. Load your dataset\n",
    "data = pd.read_csv(\"../dataset/7_11_food_choices.csv\")\n",
    "data\n",
    "\n"
   ]
  },
  {
   "cell_type": "markdown",
   "id": "03d6718e-f6cd-4307-b592-11dc088c97fb",
   "metadata": {},
   "source": [
    "## Data Extraction"
   ]
  },
  {
   "cell_type": "code",
   "execution_count": null,
   "id": "7c4bb0e6-603b-420e-a195-481a68fe0795",
   "metadata": {},
   "outputs": [],
   "source": [
    "# Extracting the data and convert it to the list\n",
    "prices = data['Price(baht)'].tolist()\n",
    "calories = data['Calories(kCal)'].tolist()\n",
    "proteins = data['Protein(g)'].tolist()\n",
    "fats = data['Fat(g)'].tolist()\n",
    "sugars = data['Sugar(g)'].tolist()\n",
    "sodium = data['Sodium(mg)'].tolist()\n",
    "items = data['ITEM'].tolist()\n",
    "\n",
    "# Number of food items\n",
    "n = len(items)\n",
    "min_item = 3\n",
    "max_item = 10\n"
   ]
  },
  {
   "cell_type": "markdown",
   "id": "cfe097c2-2d83-4fe1-a015-a525f2a9b7cf",
   "metadata": {},
   "source": [
    "## NSGA - II"
   ]
  },
  {
   "cell_type": "code",
   "execution_count": null,
   "id": "194ca04b-6780-4a93-a444-fe0e42d3f84b",
   "metadata": {},
   "outputs": [],
   "source": [
    "#Problem class with added constraints\n",
    "class FoodSelectionProblem(Problem):\n",
    "    def __init__(self, data, min_item, max_item, min_cal, max_cal,\n",
    "                 min_protein, max_fat, max_sugar, max_sodium):\n",
    "        self.data = data\n",
    "        self.n_items = len(data)\n",
    "        self.min_item = min_item\n",
    "        self.max_item = max_item\n",
    "        self.min_cal = min_cal\n",
    "        self.max_cal = max_cal\n",
    "        self.min_protein = min_protein\n",
    "        self.max_fat = max_fat\n",
    "        self.max_sugar = max_sugar\n",
    "        self.max_sodium = max_sodium\n",
    "\n",
    "        super().__init__(n_var=self.n_items,\n",
    "                         n_obj=2,\n",
    "                         n_constr=8,\n",
    "                         xl=0,\n",
    "                         xu=1,\n",
    "                         type_var=np.bool_)\n",
    "\n",
    "    def _evaluate(self, X, out, *args, **kwargs):\n",
    "        mask = X.astype(bool)\n",
    "\n",
    "        total_cost = np.sum(data['Price(baht)'].values * mask, axis=1)\n",
    "        total_protein = np.sum(data['Protein(g)'].values * mask, axis=1)\n",
    "\n",
    "        total_calories = np.sum(data['Calories(kCal)'].values * mask, axis=1)\n",
    "        total_fat = np.sum(data['Fat(g)'].values * mask, axis=1)\n",
    "        total_sugar = np.sum(data['Sugar(g)'].values * mask, axis=1)\n",
    "        total_sodium = np.sum(data['Sodium(mg)'].values * mask, axis=1)\n",
    "        total_items = np.sum(mask, axis=1)\n",
    "\n",
    "        g1 = self.min_item - total_items\n",
    "        g2 = total_items - self.max_item\n",
    "        g3 = self.min_cal - total_calories\n",
    "        g4 = total_calories - self.max_cal\n",
    "        g5 = self.min_protein - total_protein\n",
    "        g6 = total_fat - self.max_fat\n",
    "        g7 = total_sugar - self.max_sugar\n",
    "        g8 = total_sodium - self.max_sodium\n",
    "\n",
    "        out[\"F\"] = np.column_stack([total_cost, -total_protein])  # Maximize protein → minimize -protein\n",
    "        out[\"G\"] = np.column_stack([g1, g2, g3, g4, g5, g6, g7, g8])"
   ]
  },
  {
   "cell_type": "code",
   "execution_count": null,
   "id": "2b3efb83-4abf-4d65-aafb-eea5d92170a5",
   "metadata": {},
   "outputs": [],
   "source": [
    "# NSGA Execution across multiple runs\n",
    "n_runs = 5\n",
    "n_gen = 200\n",
    "best_costs, avg_costs = [], []\n",
    "best_proteins, avg_proteins = [], []\n",
    "\n",
    "for run in range(n_runs):\n",
    "    print(f\"\\n Running GA {run + 1}/{n_runs}\")\n",
    "\n",
    "    problem = FoodSelectionProblem(data,\n",
    "                                   min_item=min_item,\n",
    "                                   max_item=max_item,\n",
    "                                   min_cal=min_cal,\n",
    "                                   max_cal=max_cal,\n",
    "                                   min_protein=Pconst,\n",
    "                                   max_fat=Fconst,\n",
    "                                   max_sugar=Sconst,\n",
    "                                   max_sodium=Sodium_const)\n",
    "\n",
    "    algorithm = NSGA2(\n",
    "        pop_size=100,\n",
    "        sampling=BinaryRandomSampling(),\n",
    "        crossover=TwoPointCrossover(),\n",
    "        mutation=BitflipMutation(),\n",
    "        eliminate_duplicates=True\n",
    "    )\n",
    "\n",
    "    termination = get_termination(\"n_gen\", n_gen)\n",
    "\n",
    "    res = minimize(problem,\n",
    "                   algorithm,\n",
    "                   termination,\n",
    "                   seed=run + 1,\n",
    "                   save_history=True,\n",
    "                   verbose=True)\n",
    "\n",
    "    F = res.F\n",
    "    best_costs.append(np.min(F[:, 0]))\n",
    "    avg_costs.append(np.mean(F[:, 0]))\n",
    "    best_proteins.append(-np.min(F[:, 1]))\n",
    "    avg_proteins.append(-np.mean(F[:, 1]))\n",
    "    \n",
    "    best_cost = np.min(F[:, 0])\n",
    "    best_protein = -np.min(F[:, 1])\n",
    "    print(f\"best_cost:{best_cost}\")\n",
    "    print(f\"best_protein:{best_protein}\")\n",
    "\n",
    "    plt.figure(figsize=(10, 6))\n",
    "    plt.scatter(F[:, 0], -F[:, 1], c='red', label='Pareto Front')\n",
    "    plt.xlabel('Total Cost (Baht)')\n",
    "    plt.ylabel('Total Protein (g)')\n",
    "    plt.title('Pareto Front: Cost vs. Protein')\n",
    "    plt.legend()\n",
    "    plt.grid(True)\n",
    "    plt.show()\n",
    "\n",
    "# Selected food items for each solution\n",
    "    X = res.X\n",
    "    total_cost = 0\n",
    "    for i in range(len(X)):\n",
    "        selected_items = data[X[i].astype(bool)]\n",
    "\n",
    "        total_cost = selected_items['Price(baht)'].sum()\n",
    "        total_protein = selected_items['Protein(g)'].sum()\n",
    "        total_fat = selected_items['Fat(g)'].sum()\n",
    "        total_sugar = selected_items['Sugar(g)'].sum()\n",
    "        total_sodium = selected_items['Sodium(mg)'].sum()\n",
    "        total_calories = selected_items['Calories(kCal)'].sum()\n",
    "\n",
    "        print(f\"Meal Plan {i + 1}:\")\n",
    "        print(selected_items[['ITEM', 'Price(baht)', 'Calories(kCal)', 'Protein(g)', 'Fat(g)', 'Sugar(g)', 'Sodium(mg)']])\n",
    "        print(f\"Total cost: {total_cost}\")\n",
    "\n",
    "\n",
    "         # Nutritional Comparison Table\n",
    "        comparison_table = [\n",
    "            [\"Calories (kcal)\", f\"{total_calories:.2f}\", f\"{min_cal:.0f}–{max_cal:.0f}\"],\n",
    "            [\"Protein (g)\", f\"{total_protein:.2f}\", f\"≥ {Pconst:.0f}\"],\n",
    "            [\"Fat (g)\", f\"{total_fat:.2f}\", f\"≤ {Fconst:.0f}\"],\n",
    "            [\"Sugar (g)\", f\"{total_sugar:.2f}\", f\"≤ {Sconst:.0f}\"],\n",
    "            [\"Sodium (mg)\", f\"{total_sodium:.2f}\", f\"≤ {Sodium_const:.0f}\"],\n",
    "        ]\n",
    "\n",
    "        print(\"\\n Nutritional Comparison:\")\n",
    "        print(tabulate(comparison_table, headers=[\"Nutrient\", \"Total in Plan\", \"Constraint\"], tablefmt=\"pretty\"))\n",
    "        print(\"-\" * 50)\n"
   ]
  },
  {
   "cell_type": "markdown",
   "id": "91a864e0-0247-456f-9e6b-42b781e85b63",
   "metadata": {},
   "source": [
    "## Plotting"
   ]
  },
  {
   "cell_type": "code",
   "execution_count": null,
   "id": "4f770986-e4c3-4aa6-811f-67cb8baaecb5",
   "metadata": {},
   "outputs": [],
   "source": [
    "\n",
    "plt.figure(figsize=(10, 6))\n",
    "plt.plot(range(1, n_runs + 1), best_costs, marker='o', label='Best Cost')\n",
    "plt.plot(range(1, n_runs + 1), avg_costs, marker='s', label='Average Cost')\n",
    "plt.title(\"Best vs Average Cost per Run\")\n",
    "plt.xlabel(\"Run\")\n",
    "plt.ylabel(\"Cost (Baht)\")\n",
    "plt.legend()\n",
    "plt.grid(True)\n",
    "plt.show()\n"
   ]
  },
  {
   "cell_type": "code",
   "execution_count": null,
   "id": "87f8aef1-8e3b-4fab-90e8-bcd7967776b9",
   "metadata": {},
   "outputs": [],
   "source": [
    "plt.figure(figsize=(10, 6))\n",
    "plt.plot(range(1, n_runs + 1), best_proteins, marker='o', label='Best Protein')\n",
    "plt.plot(range(1, n_runs + 1), avg_proteins, marker='s', label='Average Protein')\n",
    "plt.title(\"Best vs Average Protein per Run\")\n",
    "plt.xlabel(\"Run\")\n",
    "plt.ylabel(\"Protein (g)\")\n",
    "plt.legend()\n",
    "plt.grid(True)\n",
    "plt.show()"
   ]
  },
  {
   "cell_type": "code",
   "execution_count": null,
   "id": "8bb6dbfb-fb60-4d48-9fb2-410ff04efec2",
   "metadata": {},
   "outputs": [],
   "source": []
  }
 ],
 "metadata": {
  "kernelspec": {
   "display_name": "Python 3 (ipykernel)",
   "language": "python",
   "name": "python3"
  },
  "language_info": {
   "codemirror_mode": {
    "name": "ipython",
    "version": 3
   },
   "file_extension": ".py",
   "mimetype": "text/x-python",
   "name": "python",
   "nbconvert_exporter": "python",
   "pygments_lexer": "ipython3",
   "version": "3.13.3"
  }
 },
 "nbformat": 4,
 "nbformat_minor": 5
}
